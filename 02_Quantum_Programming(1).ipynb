{
 "cells": [
  {
   "cell_type": "markdown",
   "id": "a33caadf-c5fe-499c-85a7-9e9aa54d7c4d",
   "metadata": {},
   "source": [
    "# HPC/QC Architectures: What is Quantum Programming?\n",
    "\n",
    "Writing quantum code requires different ideas and skills. It is important to understand that it is still very low level compared to classical programming.\n",
    "\n",
    "When was the last time you wrote your full-adder to implement `a + b` (per bit!)?\n",
    "\n",
    "**Classic Full Adder Circuit** \n",
    "\n",
    "<img src=\"images/full-adder-circuit.png\" width=\"30%\">\n"
   ]
  },
  {
   "cell_type": "markdown",
   "id": "926d3ae2-b000-4914-ae31-4df184b97b7b",
   "metadata": {},
   "source": [
    "Yet, this is the level which we are working in quantum programming today:\n",
    "\n",
    "**Quantum Full Adder Circuit** \n",
    "\n",
    "<img src=\"images/full-adder-qcircuit.png\" width=\"30%\">"
   ]
  },
  {
   "cell_type": "markdown",
   "id": "a8d213c6-69c2-436a-a413-8769257162c4",
   "metadata": {},
   "source": [
    "## Primitives in Programming\n",
    "\n",
    "> In computing, language primitives are the simplest elements available in a programming language. A primitive is the smallest 'unit of processing' available to a programmer of a given machine, or can be an atomic element of an expression in a language. [Source: Wikipedia](https://en.wikipedia.org/wiki/Language_primitive)\n",
    "\n",
    "Primitives come at different levels or flavors, for example:\n",
    "* NOT, AND, NAND, OR, NOR, XOR etc are primitive logic gates implemented in electronic circuits\n",
    "* Microcode instructions are primitives of the hardware itself, directly interfacing the electronic circuits\n",
    "* Assembler instructions are machine-level primitives in classic programming available to programmers\n",
    "* Statements and constructs such as `for`, `while`, `+`, `-` are primitives of high-level programming languages\n",
    "* Methods such as `dgemm` (matrix-matrix product), `dgemv` (matrix-vector product) are primitives of high-level libraries\n",
    "\n"
   ]
  },
  {
   "cell_type": "markdown",
   "id": "6a05cf38-99c5-43b8-af3b-1b2524e0543b",
   "metadata": {},
   "source": [
    "## Primitives in Quantum Programming \n",
    "Quantum Programming still requires us to work with lowest-level primitives such as elementary quantum gates.\n",
    "\n",
    "But development of higher level abstractions and algorithms is evolving fast and more and more re-usable 'circuit blocks' are made available through libraries.\n",
    "\n",
    "Example: [Qiskit Algorithms](https://docs.quantum.ibm.com/api/qiskit/0.33/algorithms) which contains re-usable circuits for tasks such as\n",
    "* Amplitude amplification\n",
    "* Linear Solvers\n",
    "* Eigensolvers\n",
    "* Phase Estimators\n",
    "\n",
    "Example: [Qiskit Circuit Library](https://docs.quantum.ibm.com/api/qiskit/circuit_library) which contains lower-level primitives for many tasks such as\n",
    "* basic gates (e.g., H, X, T, CX)\n",
    "* composed gates (e.g., CCX, C4X)\n",
    "* generalized and parametrized gates\n",
    "* Quantum Fourier Transform\n",
    "* Arithmetic operations (adders, multipliers, ...)"
   ]
  },
  {
   "cell_type": "markdown",
   "id": "f42471e3-1fc9-4d5b-bc0f-f948e11dd4ec",
   "metadata": {},
   "source": [
    "## Steps of a Quantum Algorithm\n",
    "Quantum algorithms make use of the superposition and (relative) phases of qubits to solve problems. The answer is usually encoded in the superposition state and not easily accessibly for read operations.\n",
    "\n",
    "\n",
    "\n",
    "\n",
    "<img src=\"images/quantum_programming.svg\" width=\"60%\">"
   ]
  },
  {
   "cell_type": "markdown",
   "id": "f9a3c3cf-aba7-4ec4-905b-da55f64d61cd",
   "metadata": {
    "jp-MarkdownHeadingCollapsed": true
   },
   "source": [
    "### Create initial state with superposition\n",
    "Qubits can be used exactly as classical bits (representing registers of bytes, logic operations etc).\n",
    "\n",
    "**Problem:** This would not give us any quantum advantage, only a very slow, very ineffective and very expensive computer.\n",
    "\n",
    "&rightarrow; Our data must be *encoded* in the qubit registers in a way that entanglement and superposition can be used\n",
    "\n",
    "#### What can be *encoded*?\n",
    "* numbers\n",
    "* vectors\n",
    "* matrices\n",
    "  \n",
    "Or on (slightly) higher-level:\n",
    "* Hamiltonians\n",
    "* Optimization Problems (3-SAT etc.)\n",
    "* ... and much more\n",
    "\n",
    "#### How can it be encoded?\n",
    "In contrast to classic computation it is also possible to encode information in the (complex) amplitudes and (relative) phase differences of qubits\n",
    "\n",
    "**&rightarrow; More later!**"
   ]
  },
  {
   "cell_type": "markdown",
   "id": "2a23a2d1-afbf-4748-bc42-7fa0961da0c5",
   "metadata": {},
   "source": [
    "### Compute in Superposition\n",
    "Quantum computation is different from classic computation. Many of the known rules don't apply or won't give any computational advantage.\n",
    "\n",
    "#### Constraints of Quantum Computation\n",
    "**No-Copy**\n",
    "* Qubits cannot be copied\n",
    "* Classic algorithms rely heavily on copying and assigning values to different bits\n",
    "\n",
    "**Reversibility**\n",
    "* By definition, all operations performed on a quantum computer must be reversible\n",
    "* Often not the case for classic logic, e.g., `c = a+b` irreversibly overwrites state of `c` and cannot be undone"
   ]
  },
  {
   "cell_type": "markdown",
   "id": "f3a4d087-f176-47e8-8b3f-768aa55ece28",
   "metadata": {},
   "source": [
    "### Phase Manipulation\n",
    "**Important:** The phase of the qubits will have no effect on the measurement in the standard computational basis!\n",
    "\n",
    "* Only amplitudes have effect on measured value \n",
    "* Phase manipulation plays a crucial role in many quantum algorithms (e.g., QFT, Phase Estimation)\n",
    "\n",
    "#### Example Phase & Measurement\n",
    "The following example measures a single qubit superposition state with a phase difference"
   ]
  },
  {
   "cell_type": "code",
   "execution_count": null,
   "id": "9a3c5911-624d-4dc2-884e-be0b3b3d50cd",
   "metadata": {
    "jupyter": {
     "source_hidden": true
    }
   },
   "outputs": [],
   "source": [
    "from qiskit import Aer, QuantumCircuit\n",
    "from qiskit.tools.visualization import plot_histogram, plot_bloch_multivector\n",
    "from qiskit import quantum_info\n",
    "import numpy as np\n",
    "\n",
    "simulator = Aer.get_backend('aer_simulator')\n",
    "\n",
    "# Create a simple circuit with qubit in superposition\n",
    "phase = QuantumCircuit(1)\n",
    "phase.h(0)\n",
    "\n",
    "# Get the state vector in superposition\n",
    "st1 = quantum_info.Statevector(phase)\n",
    "\n",
    "# Apply a pi/3 rotation around z and store state\n",
    "phase.rz(np.pi/3, 0)\n",
    "st2 = quantum_info.Statevector(phase)\n",
    "\n",
    "phase.measure_all()\n",
    "phase.draw(output=\"mpl\", style=\"iqp\")"
   ]
  },
  {
   "cell_type": "code",
   "execution_count": null,
   "id": "5b734425-87cd-4ed2-b170-e42412e41e7e",
   "metadata": {},
   "outputs": [],
   "source": [
    "result = simulator.run(phase, shots=100000).result()\n",
    "plot_histogram(result.get_counts())"
   ]
  },
  {
   "cell_type": "markdown",
   "id": "eb464a38-6e1d-4047-8cf6-07dee8e0422a",
   "metadata": {},
   "source": [
    "Looking at the Bloch representation of both single-qubit states it becomes clear that the phase has no effect on the probability of measuring 0 or 1"
   ]
  },
  {
   "cell_type": "code",
   "execution_count": null,
   "id": "b415f119-db66-475d-8ae6-da1981604725",
   "metadata": {},
   "outputs": [],
   "source": [
    "plot_bloch_multivector(st1)"
   ]
  },
  {
   "cell_type": "code",
   "execution_count": null,
   "id": "c5c89dd1-2d1a-4307-a782-12f96e19a78c",
   "metadata": {},
   "outputs": [],
   "source": [
    "plot_bloch_multivector(st2)"
   ]
  },
  {
   "cell_type": "markdown",
   "id": "fd378607-7a4d-4db6-95db-ecc58f0ac3e2",
   "metadata": {},
   "source": [
    "### Interesting Phase Effects: Phase Kickback\n",
    "Phase kickback is an effect that plays a role in more complex quantum algorithms (Quantum Phase Estimation or Quantum Machine Learning). It allows the phase of a control qubit to be changed by an operation performed on some other target qubit.\n",
    "\n",
    "#### Application: Bi-directional CNOT gates\n",
    "On some (older) hardware it was not possible to swap control and target qubit for a CNOT gate. Only one direction (e.g., Control(0), Target(1)) was possible.\n",
    "\n",
    "Using phase kickback one can create a circuit to implement the other direction, Control(1) and Target(0) using the same CNOT gate direction."
   ]
  },
  {
   "cell_type": "markdown",
   "id": "d8ff6957-c093-4480-8c5a-39845419ef24",
   "metadata": {},
   "source": [
    "#### Normal CNOT operation between control qubit q0 (state 1) and target q1 (state 0) to give 11"
   ]
  },
  {
   "cell_type": "code",
   "execution_count": null,
   "id": "c250c25d-17fa-42a3-959a-f29717b29e06",
   "metadata": {},
   "outputs": [],
   "source": [
    "circ = QuantumCircuit(2)\n",
    "circ.x(0)\n",
    "circ.barrier()\n",
    "circ.cx(0,1)\n",
    "circ.measure_all()\n",
    "circ.save_statevector()\n",
    "circ.draw(output=\"mpl\", style=\"iqp\")\n"
   ]
  },
  {
   "cell_type": "code",
   "execution_count": null,
   "id": "0db162d5-b7af-4b9c-b545-9488cf258a97",
   "metadata": {},
   "outputs": [],
   "source": [
    "simulator.run(circ).result().get_counts()"
   ]
  },
  {
   "cell_type": "markdown",
   "id": "a802ea65-ef2d-4f7e-b350-9628c26095dd",
   "metadata": {},
   "source": [
    "#### Phase-Kickback operation between control qubit q0 (state 0) and target q1 (state 1) to give 11"
   ]
  },
  {
   "cell_type": "code",
   "execution_count": null,
   "id": "70bfec6b-4ceb-4833-8d9f-054b0f76ccba",
   "metadata": {},
   "outputs": [],
   "source": [
    "circ = QuantumCircuit(2)\n",
    "circ.x(1)\n",
    "circ.barrier()\n",
    "circ.h(0)\n",
    "circ.h(1)\n",
    "circ.cx(0,1)\n",
    "circ.h(0)\n",
    "circ.h(1)\n",
    "circ.measure_all()\n",
    "circ.save_statevector()\n",
    "circ.draw(output=\"mpl\", style=\"iqp\")\n"
   ]
  },
  {
   "cell_type": "code",
   "execution_count": null,
   "id": "7e414be4-dd21-48bd-b0c2-13f96f5828ac",
   "metadata": {},
   "outputs": [],
   "source": [
    "simulator.run(circ).result().get_counts()"
   ]
  },
  {
   "cell_type": "markdown",
   "id": "fe1b7f78-f6ec-4117-9955-15aec56015d2",
   "metadata": {},
   "source": [
    "### Readout Results\n",
    "Readout is a non-reversible operation that will collpase the quantum state and return our result in a classic bit string."
   ]
  },
  {
   "cell_type": "markdown",
   "id": "0e707130-83ef-448d-a52d-6dd8fd7275d1",
   "metadata": {},
   "source": [
    "## Summary: Means of Computation\n",
    "In  Quantum Programming we can differentiate gate operations based on the effects on the qubit: Amplitude-manipulation and Phase-manipulation.\n",
    "\n",
    "### Amplitude manipulation\n",
    "* Has a direct (measureable) effect on the outcome of our computation (probability to measure 0 or 1)\n",
    "\n",
    "### Phase manipulation\n",
    "* Has no measureable effect\n",
    "* Information encoded in relative phases is not accessible to us\n",
    "* Algorithms to move information from \"phase space\" to \"amplitude space\" exist (Amplitude Amplification, QFT)"
   ]
  },
  {
   "cell_type": "code",
   "execution_count": null,
   "id": "77538a93-766b-4bb9-8ad9-83069546ba3f",
   "metadata": {},
   "outputs": [],
   "source": []
  }
 ],
 "metadata": {
  "kernelspec": {
   "display_name": "Python 3 (ipykernel)",
   "language": "python",
   "name": "python3"
  },
  "language_info": {
   "codemirror_mode": {
    "name": "ipython",
    "version": 3
   },
   "file_extension": ".py",
   "mimetype": "text/x-python",
   "name": "python",
   "nbconvert_exporter": "python",
   "pygments_lexer": "ipython3",
   "version": "3.10.10"
  }
 },
 "nbformat": 4,
 "nbformat_minor": 5
}
