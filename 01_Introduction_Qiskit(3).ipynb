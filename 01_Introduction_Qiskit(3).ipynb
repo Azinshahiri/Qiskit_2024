{
 "cells": [
  {
   "cell_type": "markdown",
   "id": "47f842c6-c0e8-4764-a965-c82934e33409",
   "metadata": {},
   "source": [
    "# HPC/QC Architectures: Introduction To Qiskit\n",
    "\n",
    "|   |   |\n",
    "|---|---|\n",
    "| Author  | Christoph Schober  |\n",
    "|  Last Update | 2023-12-12  |\n",
    "\n",
    "Goals:\n",
    "* Basic introduction to Qiskit\n",
    "* Focus on lecture content, no universal tutorial\n",
    "\n",
    "## Suggested Literature\n",
    "\n",
    "\n",
    "### Programming Quantum Computers\n",
    "* Eric R. Johnston, Nic Harrigan, Mercedes Gimeno-Segovia.\n",
    "* [LINK](https://www.oreilly.com/library/view/programming-quantum-computers/9781492039679/)\n",
    "* Focus on programming and algorithm\n",
    "* Almost no physics or math\n",
    "* Uses visual 'circle representation' to understand algorithms step by step\n",
    "* Online Quantum Simulator: https://oreilly-qc.github.io/#\n",
    "  \n",
    "![Programming](https://learning.oreilly.com/library/cover/9781492039679/250w/)\n",
    "\n",
    "### Dancing with Qubits: \n",
    "* Robert S. Sutor.\n",
    "* [LINK](https://www.packtpub.com/product/dancing-with-qubits/9781838827366)\n",
    "* Comprehensive introduciton to Quantum Computing including the basic math and some physics\n",
    "* Few algorithms explained in more detail\n",
    "\n",
    "![Dancing](https://content.packt.com/B14705/cover_image_small.png)  \n",
    "\n",
    "## Quantum Circuits\n",
    "Qiskit's main functionality to create Quantum Circuits is the [`QuantumCircuit`](https://docs.quantum.ibm.com/api/qiskit/qiskit.circuit.QuantumCircuit) class. You can use it to create circuits with qubits and classical bits"
   ]
  },
  {
   "cell_type": "code",
   "execution_count": null,
   "id": "1fa8ee8d-7925-4b6e-8e25-17e0c5c4c652",
   "metadata": {},
   "outputs": [],
   "source": [
    "from qiskit import QuantumCircuit\n",
    "# Create a circuit with 2 qubits\n",
    "circuit_2 = QuantumCircuit(2)\n",
    "\n",
    "# Create a circuit with 2 qubits and 3 classical bits\n",
    "circuit_2_3 = QuantumCircuit(2, 3)"
   ]
  },
  {
   "cell_type": "markdown",
   "id": "bcae6f1b-01d0-4269-9765-b6cae1ae8987",
   "metadata": {},
   "source": [
    "A very important feature is the ability to visualize any circuit using `QuantumCircuit.draw()`. In our case the circuit is empty because we did not yet add any gates."
   ]
  },
  {
   "cell_type": "code",
   "execution_count": null,
   "id": "066a3a86-ed01-4d36-b3f2-ca26c9e54a14",
   "metadata": {},
   "outputs": [],
   "source": [
    "circuit_2_3.draw()"
   ]
  },
  {
   "cell_type": "markdown",
   "id": "602a8192-65a5-4193-9291-5d3adc70e961",
   "metadata": {},
   "source": [
    "## Gates\n",
    "Qiskit has all of the basic gates and many 'exotic' gates available to be used. For basic gates shortcuts are available directly on the QuantumCircuit"
   ]
  },
  {
   "cell_type": "code",
   "execution_count": null,
   "id": "ce245e29-3f60-43f8-954d-c6322375d71b",
   "metadata": {},
   "outputs": [],
   "source": [
    "circuit_2_3 = QuantumCircuit(2, 3)\n",
    "\n",
    "# X on the first qubit\n",
    "circuit_2_3.x(0)\n",
    "# CNOT between first and second qubit\n",
    "circuit_2_3.cx(0, 1)\n",
    "\n",
    "# Draw (using the nicer matplotlib-output style)\n",
    "circuit_2_3.draw(output=\"mpl\", style=\"iqp\")"
   ]
  },
  {
   "cell_type": "markdown",
   "id": "98c55493-ba30-4c7e-ad67-4d142ee852f2",
   "metadata": {},
   "source": [
    "Some more special gates must be 'appended' to a circuit using an explicit class instance:"
   ]
  },
  {
   "cell_type": "code",
   "execution_count": null,
   "id": "29f3e246-5d89-4fef-a7c6-b1e679dd90be",
   "metadata": {},
   "outputs": [],
   "source": [
    "from qiskit.circuit.library import C3XGate\n",
    "spec = QuantumCircuit(4)\n",
    "spec.append(C3XGate(), [0,1,2,3])\n",
    "spec.draw(output=\"mpl\", style=\"iqp\")"
   ]
  },
  {
   "cell_type": "markdown",
   "id": "222aa4e5-ae52-4f7f-af1a-9bc47f59ab0a",
   "metadata": {},
   "source": [
    "A list of available gates and more complex building blocks can be found here: https://docs.quantum.ibm.com/api/qiskit/circuit_library#standard-gates"
   ]
  },
  {
   "cell_type": "markdown",
   "id": "c895d0a6-7779-4524-9197-cae6f1d7c02a",
   "metadata": {},
   "source": [
    "## Measurements\n",
    "Depending on the requirements it is possible to measure individual qubits (also mid-circuit) or measure all qubits at the end of the circuit."
   ]
  },
  {
   "cell_type": "code",
   "execution_count": null,
   "id": "e34846be-0f7e-47df-a5e8-9d0503dfa59c",
   "metadata": {},
   "outputs": [],
   "source": [
    "circuit_2_3 = QuantumCircuit(2, 3)\n",
    "\n",
    "# X on the first qubit\n",
    "circuit_2_3.x(0)\n",
    "# CNOT between first and second qubit\n",
    "circuit_2_3.cx(0, 1)\n",
    "\n",
    "# measure qbit 0 and store value in classical bit 0\n",
    "circuit_2_3.measure(0,0)\n",
    "circuit_2_3.measure(1,2)\n",
    "circuit_2_3.draw(output=\"mpl\", style=\"iqp\")"
   ]
  },
  {
   "cell_type": "code",
   "execution_count": null,
   "id": "b45a6fa8-80c6-42f9-af35-a504bb128769",
   "metadata": {},
   "outputs": [],
   "source": [
    "circuit_2_3 = QuantumCircuit(2, 3)\n",
    "\n",
    "# X on the first qubit\n",
    "circuit_2_3.x(0)\n",
    "# CNOT between first and second qubit\n",
    "circuit_2_3.cx(0, 1)\n",
    "# measure qbit 1 and store value in classical bit 2\n",
    "circuit_2_3.measure(1,2)\n",
    "circuit_2_3.draw(output=\"mpl\", style=\"iqp\")"
   ]
  },
  {
   "cell_type": "markdown",
   "id": "f3ee2b25-12da-4a33-80ef-377e95bf5425",
   "metadata": {},
   "source": [
    "Using `.measure_all()` will introduce a barrier and necessary classical bits to store the measured values automatically"
   ]
  },
  {
   "cell_type": "code",
   "execution_count": null,
   "id": "ee9db6ea-84cd-4c1c-ba72-041949b6c94a",
   "metadata": {},
   "outputs": [],
   "source": [
    "circuit_2_3 = QuantumCircuit(2)\n",
    "\n",
    "# X on the first qubit\n",
    "circuit_2_3.x(0)\n",
    "# CNOT between first and second qubit\n",
    "circuit_2_3.cx(0, 1)\n",
    "\n",
    "circuit_2_3.measure_all()\n",
    "circuit_2_3.draw()"
   ]
  },
  {
   "cell_type": "markdown",
   "id": "bba9a4af-4098-4a89-836e-0bd32a7c9aef",
   "metadata": {},
   "source": [
    "<div class=\"alert alert-block alert-info\">\n",
    "<h3>Exercise 1</h3>\n",
    "    <p>Use the skeleton code in the next box and create the following circuit:</p>\n",
    "    <img src=\"images/exercise1_circuit.png\" width=\"30%\">\n",
    "</div>"
   ]
  },
  {
   "cell_type": "code",
   "execution_count": null,
   "id": "b5364070-6643-4eba-a68c-672963f133a3",
   "metadata": {
    "nbgrader": {
     "grade": false,
     "grade_id": "cell-9864aaf434ce4735",
     "locked": false,
     "schema_version": 3,
     "solution": true,
     "task": false
    }
   },
   "outputs": [],
   "source": [
    "### BEGIN SOLUTION ###\n",
    "qc = QuantumCircuit(2, 2)\n",
    "qc.h(0)\n",
    "qc.h(1)\n",
    "qc.t(1)\n",
    "qc.h(1)\n",
    "qc.cx(0, 1)\n",
    "\n",
    "### END SOLUTION\n",
    "\n",
    "# Measurements with barriers to structure the circuit\n",
    "qc.barrier()\n",
    "qc.measure(0, 0)\n",
    "qc.barrier()\n",
    "qc.measure(0, 0)\n",
    "qc.draw(output=\"mpl\", style=\"iqp\")"
   ]
  },
  {
   "cell_type": "code",
   "execution_count": null,
   "id": "48cddf23-a22c-4295-806d-4e00a09f41f1",
   "metadata": {},
   "outputs": [],
   "source": [
    "# Example barrier use\n",
    "import numpy as np\n",
    "\n",
    "qc = QuantumCircuit(2, 2)\n",
    "qc.h(0)\n",
    "qc.h(1)\n",
    "qc.x(1)\n",
    "qc.t(1)\n",
    "qc.rz(np.pi/2, 1)\n",
    "\n",
    "qc.barrier()\n",
    "qc.measure(0,0)\n",
    "qc.measure(1,1)\n",
    "qc.draw(output=\"mpl\", style=\"iqp\")"
   ]
  },
  {
   "cell_type": "code",
   "execution_count": null,
   "id": "93db06df-670f-4acc-8b1a-a01ce642f322",
   "metadata": {},
   "outputs": [],
   "source": [
    "# Example barrier use\n",
    "import numpy as np\n",
    "\n",
    "qc = QuantumCircuit(2, 2)\n",
    "qc.h(0)\n",
    "qc.h(1)\n",
    "qc.x(1)\n",
    "qc.t(1)\n",
    "qc.rz(np.pi/2, 1)\n",
    "\n",
    "qc.measure(0,0)\n",
    "qc.measure(1,1)\n",
    "qc.draw(output=\"mpl\", style=\"iqp\")"
   ]
  },
  {
   "cell_type": "markdown",
   "id": "3918d25b-92a2-4df4-9e61-1d5ce01be077",
   "metadata": {},
   "source": [
    "<div class=\"alert alert-block alert-info\">End of Exercise</div>"
   ]
  },
  {
   "cell_type": "markdown",
   "id": "2d19afe7-69f2-4f37-9085-ffb71a2e6c5e",
   "metadata": {},
   "source": [
    "## Executing the circuit\n",
    "A circuit in Qiskit can be run by different backends, such as noisy or ideal simulators or even real quantum hardware.\n",
    "\n",
    "For any teaching or learning it is usually most efficient to use the simulator backends."
   ]
  },
  {
   "cell_type": "code",
   "execution_count": null,
   "id": "427241ae-b6d2-400a-a584-8512d8c258b7",
   "metadata": {},
   "outputs": [],
   "source": [
    "from qiskit import Aer\n",
    "from qiskit.tools.visualization import plot_histogram, plot_state_city, plot_state_qsphere, plot_bloch_vector\n",
    "from qiskit.visualization import array_to_latex\n",
    "\n",
    "# Create a simulator object to be used\n",
    "simulator = Aer.get_backend('aer_simulator')\n",
    "\n",
    "# Create a simple circuit with entangled qubits\n",
    "bell = QuantumCircuit(2)\n",
    "bell.h(0)\n",
    "bell.cx(0,1)\n",
    "bell.measure_all()\n",
    "bell.draw(output=\"mpl\", style=\"iqp\")"
   ]
  },
  {
   "cell_type": "markdown",
   "id": "2db5b7ac-b5e8-49cb-a752-7da8983bae8d",
   "metadata": {},
   "source": [
    "The circuit is run using the defined simulator and results can be fetched immediately (for real hardware there can be a delay of minutes to days depending on the queue size).\n",
    "\n",
    "**Important: Since quantum circuits are probabilistic multiple runs or \"shots\" are required to get a statistically significant result!**"
   ]
  },
  {
   "cell_type": "code",
   "execution_count": null,
   "id": "5c5e804e-737d-411b-8c09-f566f974f103",
   "metadata": {},
   "outputs": [],
   "source": [
    "result = simulator.run(bell).result()\n",
    "result.get_counts()"
   ]
  },
  {
   "cell_type": "markdown",
   "id": "0729c502-2c24-431a-977d-7c6c063618a5",
   "metadata": {},
   "source": [
    "The default amount of runs in Qiskit is usually **1024**. This can be configured via the `shots` argument to the `.run`-call:"
   ]
  },
  {
   "cell_type": "code",
   "execution_count": null,
   "id": "ccaf606b-2a57-47ca-a64e-15c0068fc352",
   "metadata": {},
   "outputs": [],
   "source": [
    "result2 = simulator.run(bell, shots=1).result()\n",
    "result2.get_counts()"
   ]
  },
  {
   "cell_type": "markdown",
   "id": "0611d288-26d1-4a31-a828-60fbede49814",
   "metadata": {},
   "source": [
    "The result can also be visualized using `plot_histogram`:"
   ]
  },
  {
   "cell_type": "code",
   "execution_count": null,
   "id": "632abf3a-49d4-497c-954a-d2c0bec72ec1",
   "metadata": {},
   "outputs": [],
   "source": [
    "plot_histogram(result.get_counts())"
   ]
  },
  {
   "cell_type": "markdown",
   "id": "8e89c4b3-d303-476f-95c7-38f41a628ca0",
   "metadata": {},
   "source": [
    "<div class=\"alert alert-block alert-info\">\n",
    "<h3>Exercise 2</h3>\n",
    "    <p>Create an entangled circuit that will return <i>00</i> more often than <i>11</i> (\"has a different probability for measuring <i>00</i> than <i>11</i>\") and test the circuit by measuring and plotting the result using the aer_simulator</p>\n",
    "    <ul>\n",
    "        <li>Which gates influence the probability of measuring a certain value?</li>\n",
    "        <li>Hint: Rotations in Qiskit are defined in Radians. You can use fractions of $\\pi$ via <code>np.pi / 4</code></li>\n",
    "    </ul>\n",
    "</div>"
   ]
  },
  {
   "cell_type": "code",
   "execution_count": null,
   "id": "82666efb-0f6b-4b60-aa74-cd8b95143b49",
   "metadata": {
    "nbgrader": {
     "grade": false,
     "grade_id": "cell-2f248cfc8f90c89e",
     "locked": false,
     "schema_version": 3,
     "solution": true,
     "task": false
    }
   },
   "outputs": [],
   "source": [
    "import numpy as np\n",
    "simulator = Aer.get_backend('aer_simulator')\n",
    "\n",
    "## BEGIN SOLUTION ##\n",
    "# Create a simple circuit with entangled qubits\n",
    "bell = QuantumCircuit(2)\n",
    "bell.h(0)\n",
    "bell.ry(np.pi/6, 0)\n",
    "bell.cx(0,1)\n",
    "\n",
    "bell.measure_all()\n",
    "bell.draw()\n",
    "\n",
    "## END SOLUTION ## "
   ]
  },
  {
   "cell_type": "code",
   "execution_count": null,
   "id": "d56a5843-526c-4cb2-930c-b06ca68743df",
   "metadata": {
    "nbgrader": {
     "grade": false,
     "grade_id": "cell-59de42b9d4725742",
     "locked": false,
     "schema_version": 3,
     "solution": true,
     "task": false
    }
   },
   "outputs": [],
   "source": [
    "## BEGIN SOLUTION ##\n",
    "result = simulator.run(bell, shots=1024).result()\n",
    "counts = result.get_counts()\n",
    "print(counts)\n",
    "print(counts[\"11\"]/counts[\"00\"] * 100)\n",
    "plot_histogram(result.get_counts())\n",
    "## END SOLUTION ## "
   ]
  },
  {
   "cell_type": "markdown",
   "id": "a758c9ea-c146-4a51-be72-19799ef46e52",
   "metadata": {},
   "source": [
    "<div class=\"alert alert-block alert-info\">End of Exercise</div>"
   ]
  },
  {
   "cell_type": "markdown",
   "id": "bf56f2cb-4c23-443f-a39c-5078404e252f",
   "metadata": {},
   "source": [
    "### Debugging Insights Using Simulators\n",
    "One benefit of the simulators is the option to get insights into the state of the computation within the circuit by storing the so-called statevector (or wavefunction) of the circuit at a specific point. This is useful to gain more insights into what is happening.\n",
    "\n",
    "Note: This is of course **only** possible on simulators!"
   ]
  },
  {
   "cell_type": "code",
   "execution_count": null,
   "id": "cd181a96-957f-40f7-a4b7-f3f8b8763ede",
   "metadata": {},
   "outputs": [],
   "source": [
    "from qiskit.quantum_info import Statevector\n",
    "\n",
    "# Create a simple circuit with entangled qubits\n",
    "bell = QuantumCircuit(2)\n",
    "stv0 = Statevector.from_instruction(bell)\n",
    "bell.h(0)\n",
    "stv1 = Statevector.from_instruction(bell)\n",
    "bell.cx(0,1)\n",
    "stv2 = Statevector.from_instruction(bell)\n",
    "bell.measure_all()\n",
    "bell.draw(output=\"mpl\", style=\"iqp\")"
   ]
  },
  {
   "cell_type": "markdown",
   "id": "3873795a-f79a-4c7f-9d3d-2ecfd11d4067",
   "metadata": {},
   "source": [
    "The statevector can be printed directly"
   ]
  },
  {
   "cell_type": "code",
   "execution_count": null,
   "id": "a1784baa-348c-4b93-8fe6-9b8ba58132a4",
   "metadata": {},
   "outputs": [],
   "source": [
    "print(stv0)"
   ]
  },
  {
   "cell_type": "markdown",
   "id": "f2888c81-152e-43b0-aeba-30dcd2bc7ba2",
   "metadata": {},
   "source": [
    "or in a nicer format using LaTeX:"
   ]
  },
  {
   "cell_type": "code",
   "execution_count": null,
   "id": "6a10411d-babc-4fc0-a9ad-06c67e30cc33",
   "metadata": {},
   "outputs": [],
   "source": [
    "from qiskit.visualization import array_to_latex\n",
    "# Initial state with qubits initialized to 0\n",
    "array_to_latex(stv0)"
   ]
  },
  {
   "cell_type": "code",
   "execution_count": null,
   "id": "db7a19c6-83f4-4c26-ab7e-7efd1239ae35",
   "metadata": {},
   "outputs": [],
   "source": [
    "# After Hadamard on q0\n",
    "array_to_latex(stv1)"
   ]
  },
  {
   "cell_type": "code",
   "execution_count": null,
   "id": "156d74bb-e96f-47b5-98c3-6b9f0194abe8",
   "metadata": {},
   "outputs": [],
   "source": [
    "# after CNOT between q0 and q1 (bell state)\n",
    "array_to_latex(stv2)"
   ]
  },
  {
   "cell_type": "markdown",
   "id": "fc60d79b-701b-4ee8-9ce2-b93ed34851b0",
   "metadata": {},
   "source": [
    "The statevector can also be visualized using different plotting features such as the so-called \"city map\":"
   ]
  },
  {
   "cell_type": "code",
   "execution_count": null,
   "id": "367ff76f-39cb-4ce7-985f-d05fa430139e",
   "metadata": {},
   "outputs": [],
   "source": [
    "plot_state_city(stv0)"
   ]
  },
  {
   "cell_type": "code",
   "execution_count": null,
   "id": "44f91d47-f5a0-4025-9ed3-ff2e36ad91b3",
   "metadata": {},
   "outputs": [],
   "source": [
    "plot_state_city(stv1)"
   ]
  },
  {
   "cell_type": "code",
   "execution_count": null,
   "id": "8a9b521c-bebb-4135-9c49-c43622be1fc6",
   "metadata": {},
   "outputs": [],
   "source": [
    "plot_state_city(stv2)"
   ]
  },
  {
   "cell_type": "markdown",
   "id": "61e1989d-c1b1-4ee9-9ed7-befa53e70879",
   "metadata": {},
   "source": [
    "There are different visualization options available: https://docs.quantum.ibm.com/build/circuit-visualization#plot-state-"
   ]
  },
  {
   "cell_type": "markdown",
   "id": "9a9d2b32-9fb9-4aff-98f4-f5859a7306a4",
   "metadata": {},
   "source": [
    "## Running with noise"
   ]
  },
  {
   "cell_type": "code",
   "execution_count": null,
   "id": "fde54b33-ebcb-4bdd-a3cd-c9455c55cf9a",
   "metadata": {},
   "outputs": [],
   "source": [
    "# Construct the noise model from backend properties\n",
    "from qiskit import execute\n",
    "from qiskit.providers.fake_provider import FakeVigoV2\n",
    "from qiskit.providers.aer.noise import NoiseModel\n",
    "\n",
    "device_backend = FakeVigoV2()\n",
    "\n",
    "# The device coupling map is needed for transpiling to correct\n",
    "# CNOT gates before simulation\n",
    "coupling_map = device_backend.coupling_map\n",
    "\n",
    "noise_model = NoiseModel.from_backend(device_backend)\n",
    "print(noise_model)\n",
    "\n",
    "# Get the basis gates for the noise model\n",
    "basis_gates = noise_model.basis_gates\n",
    "\n",
    "# Select the QasmSimulator from the Aer provider\n",
    "simulator = Aer.get_backend('aer_simulator')\n",
    "\n",
    "result_noise = execute(bell, simulator,\n",
    "                       noise_model=noise_model,\n",
    "                       coupling_map=coupling_map,\n",
    "                       basis_gates=basis_gates).result()"
   ]
  },
  {
   "cell_type": "code",
   "execution_count": null,
   "id": "4cb75667-1407-4792-a669-18fe7b622efa",
   "metadata": {},
   "outputs": [],
   "source": [
    "plot_histogram(result_noise.get_counts())"
   ]
  },
  {
   "cell_type": "markdown",
   "id": "82be458c-a9af-4680-bdbd-c129e0101317",
   "metadata": {},
   "source": [
    "Here we can clearly see the result of the noise: The states `01` and `10` are not possible for a pure Bell-state circuit."
   ]
  },
  {
   "cell_type": "markdown",
   "id": "21cb3a50-acc5-4982-a9d1-f2ab60e70715",
   "metadata": {},
   "source": [
    "## Qiskit Qubit Ordering\n",
    "Just as for classic hardware there is also the convention of \"Endianness\" (see https://en.wikipedia.org/wiki/Endianness for general background) in Quantum Computing. Qiskit uses the \"little endian\" convention, this means, the least significant bit is on the right.\n",
    "\n",
    "Circuit plots, on the other hand, are visualized \"as expected\". This can lead to some confusion.\n",
    "\n",
    "Let's see an example:"
   ]
  },
  {
   "cell_type": "code",
   "execution_count": null,
   "id": "2f439e76-1ebb-41c0-a31e-37294a330892",
   "metadata": {},
   "outputs": [],
   "source": [
    "circ = QuantumCircuit(3)\n",
    "circ.x(0)  # x on qubit 0\n",
    "circ.barrier()\n",
    "circ.x(1)  # x on qubit 1\n",
    "circ.barrier()\n",
    "circ.x(2)  # x on qubit 2\n",
    "\n",
    "circ.measure_all()\n",
    "circ.draw(output=\"mpl\", style=\"iqp\")"
   ]
  },
  {
   "cell_type": "code",
   "execution_count": null,
   "id": "b2804030-6929-4ad3-9741-5c28b929cb49",
   "metadata": {},
   "outputs": [],
   "source": [
    "# Define helper function to measure circuits with different qubits being X'ed\n",
    "def do_x_on(qubit_idx):\n",
    "    circ = QuantumCircuit(3)\n",
    "    circ.x(qubit_idx)\n",
    "    circ.measure_all()\n",
    "    result = simulator.run(circ).result()\n",
    "    print(f\"Result for X on Qubit with index {qubit_idx}: {list(result.get_counts().keys())[0]}\")\n",
    "    return circ"
   ]
  },
  {
   "cell_type": "code",
   "execution_count": null,
   "id": "a8d60587-7f5c-4e28-914a-82cc1d48b9f6",
   "metadata": {},
   "outputs": [],
   "source": [
    "circ = do_x_on(0)\n",
    "circ.draw(output=\"mpl\", style=\"iqp\")"
   ]
  },
  {
   "cell_type": "markdown",
   "id": "ac09ed27-aae3-49db-8c2f-dfd87461653c",
   "metadata": {},
   "source": [
    "Carefully compare the string `Result for X on Qubit with index 0: 001` with the plot! `q0` is the last bit in the string, **not** the first!"
   ]
  },
  {
   "cell_type": "code",
   "execution_count": null,
   "id": "556eb5f4-0346-42d4-a85c-81668f9ba6f3",
   "metadata": {},
   "outputs": [],
   "source": [
    "do_x_on(0)\n",
    "do_x_on(1)\n",
    "do_x_on(2)"
   ]
  },
  {
   "cell_type": "markdown",
   "id": "61a28464-12ce-45dd-8d67-406f94c7a6c9",
   "metadata": {},
   "source": [
    "### Effect on matrix representations\n",
    "The ordering also influences how the matrix representations of gates and any unitaries in Qiskit are constructed. They will look different from the text-book representation that you are used to."
   ]
  },
  {
   "cell_type": "code",
   "execution_count": null,
   "id": "5e070a43-c4bb-4502-b9ae-65a88102470a",
   "metadata": {},
   "outputs": [],
   "source": [
    "from qiskit import QuantumCircuit\n",
    "from qiskit.quantum_info import Operator\n",
    "\n",
    "circ = QuantumCircuit(2)\n",
    "circ.cx(0, 1)\n",
    "circ.draw(output=\"mpl\", style=\"iqp\")"
   ]
  },
  {
   "cell_type": "code",
   "execution_count": null,
   "id": "fbc6d39f-7e2a-4413-a31e-fafb6b2a5dba",
   "metadata": {},
   "outputs": [],
   "source": [
    "print('Little endian (QISKIT):')\n",
    "array_to_latex(Operator(circ), prefix=\"CNOT=\")\n"
   ]
  },
  {
   "cell_type": "code",
   "execution_count": null,
   "id": "4e71b513-059c-4cd6-bb1b-37b61a653597",
   "metadata": {},
   "outputs": [],
   "source": [
    "print('Big endian (TEXTBOOKS):')\n",
    "array_to_latex(Operator(circ.reverse_bits()), prefix=\"CNOT=\")"
   ]
  },
  {
   "cell_type": "markdown",
   "id": "cde67938-5bc1-4631-b89b-aa72e9202974",
   "metadata": {},
   "source": [
    "<div class=\"alert alert-block alert-warning\">\n",
    "<h3>Keep this in mind when working with Qiskit and interacting with qubit-strings or gate representations!</h3>\n",
    "</div>"
   ]
  }
 ],
 "metadata": {
  "kernelspec": {
   "display_name": "Python 3 (ipykernel)",
   "language": "python",
   "name": "python3"
  },
  "language_info": {
   "codemirror_mode": {
    "name": "ipython",
    "version": 3
   },
   "file_extension": ".py",
   "mimetype": "text/x-python",
   "name": "python",
   "nbconvert_exporter": "python",
   "pygments_lexer": "ipython3",
   "version": "3.10.10"
  }
 },
 "nbformat": 4,
 "nbformat_minor": 5
}
